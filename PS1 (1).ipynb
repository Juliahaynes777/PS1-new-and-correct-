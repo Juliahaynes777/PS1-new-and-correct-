{
 "cells": [
  {
   "cell_type": "code",
   "execution_count": 24,
   "id": "09c362ca",
   "metadata": {},
   "outputs": [],
   "source": [
    "#Imports\n",
    "import math\n",
    "import numpy as np"
   ]
  },
  {
   "cell_type": "code",
   "execution_count": null,
   "id": "addbdeab",
   "metadata": {},
   "outputs": [],
   "source": [
    "# Collaborators: Kimberly and Azul"
   ]
  },
  {
   "cell_type": "code",
   "execution_count": 52,
   "id": "099f6efc",
   "metadata": {},
   "outputs": [
    {
     "name": "stdout",
     "output_type": "stream",
     "text": [
      "-1.2 0.96\n",
      "-1.15 0.96\n",
      "-1.1 0.96\n",
      "-1.05 0.96\n",
      "-1.0 0.96\n",
      "-0.95 0.96\n",
      "-0.9 0.96\n",
      "-0.85 0.96\n",
      "-0.8 0.96\n",
      "-0.75 0.96\n",
      "-0.7 0.96\n",
      "-0.65 0.96\n",
      "-0.6 0.96\n",
      "-0.55 0.96\n",
      "-0.5 0.96\n",
      "-0.45 0.96\n",
      "-0.4 0.96\n",
      "-0.35 0.96\n",
      "-0.3 0.96\n",
      "-0.25 0.96\n",
      "-0.2 0.96\n",
      "-0.15 0.96\n",
      "-0.1 0.96\n",
      "-0.05 0.96\n",
      "0.0 0.96\n",
      "0.05 0.96\n",
      "0.1 0.96\n",
      "0.15 0.96\n",
      "0.2 0.96\n",
      "0.25 0.96\n",
      "0.3 0.96\n",
      "0.35 0.96\n",
      "0.4 0.96\n",
      "0.45 0.96\n",
      "0.5 0.96\n",
      "0.55 0.96\n",
      "0.6 0.96\n",
      "0.65 0.96\n",
      "0.7 0.96\n",
      "0.75 0.96\n",
      "0.8 0.96\n",
      "0.85 0.96\n",
      "0.9 0.9631632627651049\n",
      "0.95 0.9684170049114548\n",
      "1.0 0.9745022090966324\n",
      "1.05 0.9808496779305925\n",
      "1.1 0.987042673242156\n",
      "1.15 0.9926934503699995\n",
      "1.2 0.997335263983016\n"
     ]
    }
   ],
   "source": [
    "# Problem 2\n",
    "\n",
    "\"\"\"\n",
    "y is representing the flux. I am finding the flux for p = 0.2 and z going from -1.2 to 1.2 by steps of 0.05\n",
    "\n",
    "\"\"\"\n",
    "\n",
    "p = 0.2\n",
    "z = -1.25\n",
    "\n",
    "while z < 1.2:\n",
    "   \n",
    "    \n",
    "    if 1 + p < z:\n",
    "        y = 1 - 0\n",
    "    elif math.fabs(1-p) < z and z <= 1 + p:\n",
    "        a = math.acos((1-p**2+z**2)/(2*z))\n",
    "        b = math.acos((p**2+z**2-1)/(2*p*z))\n",
    "        y = 1 - ((1/math.pi)*(p**2*b+a-((4*z**2-(1+z**2-p**2)**2)/4)**0.5))\n",
    "    elif z <= 1-p:\n",
    "        y = 1 - p**2\n",
    "    elif z <= p-1:\n",
    "        y = 1 - 1\n",
    "    \n",
    "    z = z + 0.05\n",
    "    z = round(z, 3) \n",
    "    \n",
    "    print(z, y)"
   ]
  },
  {
   "cell_type": "code",
   "execution_count": 39,
   "id": "24ff605c",
   "metadata": {},
   "outputs": [
    {
     "data": {
      "text/plain": [
       "'\\nThis function takes the following imputs:\\nf: the integrand\\nx0: lower limit of integral\\nxn: upper limit of integral\\nn: number of different subrectangles used for approximation, tyically higher n is more accurate \\n\\ndelta_x: the width of each rectangle\\n\\nThis function creates an approximation of an integral by calculating the area of n rectangles\\n'"
      ]
     },
     "execution_count": 39,
     "metadata": {},
     "output_type": "execute_result"
    }
   ],
   "source": [
    "# Problem 3\n",
    "\n",
    "#Imports\n",
    "import numpy as np\n",
    "\n",
    "# Functions\n",
    "def approximate_int_rect_area(f, x0, xn, n):\n",
    "    delta_x = (xn - x0) / n\n",
    "    integral_approx = sum(f(x0 + i*delta_x) for i in range(n)) * delta_x\n",
    "    return integral_approx\n",
    "\"\"\"\n",
    "This function takes the following imputs:\n",
    "f: the integrand\n",
    "x0: lower limit of integral\n",
    "xn: upper limit of integral\n",
    "n: number of different subrectangles used for approximation, tyically higher n is more accurate \n",
    "\n",
    "delta_x: the width of each rectangle\n",
    "\n",
    "This function creates an approximation of an integral by calculating the area of n rectangles\n",
    "\"\"\"\n",
    "# Fractional error\n",
    "def fractional_error(true_integral, integral_approx):\n",
    "    return math.fabs(true_integral - integral_approx) / true_integral\n",
    "\"\"\"\n",
    "This function calculates the fractional error between the true integral, and the one approximated by rectangular area approximation\n",
    "This is used to determine the accuracy of our rectangular area approximation\n",
    "\"\"\"\n"
   ]
  },
  {
   "cell_type": "code",
   "execution_count": 54,
   "id": "c9a58ad5",
   "metadata": {},
   "outputs": [
    {
     "data": {
      "text/plain": [
       "41.04375000000001"
      ]
     },
     "execution_count": 54,
     "metadata": {},
     "output_type": "execute_result"
    }
   ],
   "source": [
    "# Problem 3 continued\n",
    "# Testing approximate_int_rect_area and fractional error for x**2 from 0-5  with 100 steps\n",
    "\n",
    "def f(x):\n",
    "    return x**2\n",
    "\n",
    "approximate_int_rect_area(f, 0, 5, 100)\n",
    "\n",
    "# True value is about 41.6, so this is reasonably close: function works"
   ]
  },
  {
   "cell_type": "code",
   "execution_count": 47,
   "id": "924e099e",
   "metadata": {},
   "outputs": [
    {
     "data": {
      "text/plain": [
       "0.013371394230769195"
      ]
     },
     "execution_count": 47,
     "metadata": {},
     "output_type": "execute_result"
    }
   ],
   "source": [
    "# Problem 3 continued\n",
    "# Testing fractional error for x**2 from 0-5  with 100 steps\n",
    "\n",
    "fractional_error(41.6, 41.04375)"
   ]
  },
  {
   "cell_type": "code",
   "execution_count": 44,
   "id": "94a1a418",
   "metadata": {},
   "outputs": [
    {
     "data": {
      "text/plain": [
       "161708.33250000005"
      ]
     },
     "execution_count": 44,
     "metadata": {},
     "output_type": "execute_result"
    }
   ],
   "source": [
    "# Problem 3 continued\n",
    "# Testing approximate_int_rect_area for x**5 from 0-10  with 100 steps\n",
    "\n",
    "def f(x):\n",
    "    return x**5\n",
    "\n",
    "approximate_int_rect_area(f, 0, 10, 100)\n",
    "# True value is about 1.67e5, so this is reasonably close: function works\n"
   ]
  },
  {
   "cell_type": "code",
   "execution_count": 40,
   "id": "93ebce0c",
   "metadata": {},
   "outputs": [
    {
     "data": {
      "text/plain": [
       "0.9921254566056331"
      ]
     },
     "execution_count": 40,
     "metadata": {},
     "output_type": "execute_result"
    }
   ],
   "source": [
    "# Problem 3 continued\n",
    "# Integrating sin(x) from 0 to pi/2\n",
    "\n",
    "def f(x):\n",
    "    return np.sin(x)\n",
    "# I choose n=100\n",
    "approximate_int_rect_area(f, 0, np.pi/2, 100)\n"
   ]
  },
  {
   "cell_type": "code",
   "execution_count": 53,
   "id": "b0151366",
   "metadata": {},
   "outputs": [
    {
     "name": "stdout",
     "output_type": "stream",
     "text": [
      "For n = 10, estimated integral = 0.9194031700146124, fractional error = 8.06e-02\n",
      "For n = 100, estimated integral = 0.9921254566056331, fractional error = 7.87e-03\n",
      "For n = 1000, estimated integral = 0.9992143962198358, fractional error = 7.86e-04\n",
      "For n = 10000, estimated integral = 0.9999214581274929, fractional error = 7.85e-05\n",
      "For n = 100000, estimated integral = 0.9999921459978057, fractional error = 7.85e-06\n"
     ]
    },
    {
     "data": {
      "text/plain": [
       "'\\nAs n increases by 10, the fractional error decreases by a factor of 10, making this a first order scheme\\n'"
      ]
     },
     "execution_count": 53,
     "metadata": {},
     "output_type": "execute_result"
    }
   ],
   "source": [
    "\"\"\"\n",
    "Calculating the fractional error for various n values, and determining what order the scheme is\n",
    "\"\"\"\n",
    "def fractional_error(true_integral, integral_approx):\n",
    "    return math.fabs(true_integral - integral_approx) / true_integral\n",
    "\n",
    "# Define the function to be integrated\n",
    "def f(x):\n",
    "    return np.sin(x)\n",
    "\n",
    "# Integral of sin(x) from 0 to pi/2 is 1\n",
    "true_integral = 1.0\n",
    "\n",
    "# Given n values used to calculate fractional error\n",
    "n_values = [10, 10**2, 10**3, 10**4, 10**5]\n",
    "\n",
    "# Calculate the estimated values and fractional errors for each n\n",
    "for n in n_values:\n",
    "    estimated_value = approximate_int_rect_area(f, 0, np.pi/2, n)\n",
    "    error = fractional_error(true_integral, estimated_value)\n",
    "    print(f\"For n = {n}, estimated integral = {estimated_value}, fractional error = {error:.2e}\")\n",
    "\"\"\"\n",
    "As n increases by 10, the fractional error decreases by a factor of 10, making this a first order scheme\n",
    "\"\"\""
   ]
  }
 ],
 "metadata": {
  "kernelspec": {
   "display_name": "Python 3 (ipykernel)",
   "language": "python",
   "name": "python3"
  },
  "language_info": {
   "codemirror_mode": {
    "name": "ipython",
    "version": 3
   },
   "file_extension": ".py",
   "mimetype": "text/x-python",
   "name": "python",
   "nbconvert_exporter": "python",
   "pygments_lexer": "ipython3",
   "version": "3.9.13"
  }
 },
 "nbformat": 4,
 "nbformat_minor": 5
}
